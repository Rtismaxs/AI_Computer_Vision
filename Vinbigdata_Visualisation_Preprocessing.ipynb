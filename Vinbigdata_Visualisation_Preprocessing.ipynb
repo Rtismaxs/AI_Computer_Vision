{
 "cells": [
  {
   "cell_type": "markdown",
   "id": "21600add",
   "metadata": {
    "papermill": {
     "duration": 0.007271,
     "end_time": "2023-03-22T10:38:43.713100",
     "exception": false,
     "start_time": "2023-03-22T10:38:43.705829",
     "status": "completed"
    },
    "tags": []
   },
   "source": [
    "## **Libraries**"
   ]
  },
  {
   "cell_type": "code",
   "execution_count": 1,
   "id": "d7a1a8d4",
   "metadata": {
    "_cell_guid": "b1076dfc-b9ad-4769-8c92-a6c4dae69d19",
    "_uuid": "8f2839f25d086af736a60e9eeb907d3b93b6e0e5",
    "execution": {
     "iopub.execute_input": "2023-03-22T10:38:43.727546Z",
     "iopub.status.busy": "2023-03-22T10:38:43.727017Z",
     "iopub.status.idle": "2023-03-22T10:38:44.997673Z",
     "shell.execute_reply": "2023-03-22T10:38:44.996603Z"
    },
    "papermill": {
     "duration": 1.281004,
     "end_time": "2023-03-22T10:38:45.000427",
     "exception": false,
     "start_time": "2023-03-22T10:38:43.719423",
     "status": "completed"
    },
    "tags": []
   },
   "outputs": [],
   "source": [
    "# Libraries\n",
    "import numpy as np\n",
    "import pandas as pd\n",
    "import seaborn as sns\n",
    "import matplotlib.pyplot as plt\n",
    "from tqdm.notebook import tqdm\n",
    "\n",
    "import cv2\n",
    "import pydicom\n",
    "from pydicom.pixel_data_handlers.util import apply_voi_lut\n",
    "from PIL import Image\n",
    "\n",
    "import os\n",
    "\n",
    "%matplotlib inline"
   ]
  },
  {
   "cell_type": "markdown",
   "id": "4ef0d845",
   "metadata": {
    "papermill": {
     "duration": 0.005766,
     "end_time": "2023-03-22T10:38:45.012758",
     "exception": false,
     "start_time": "2023-03-22T10:38:45.006992",
     "status": "completed"
    },
    "tags": []
   },
   "source": [
    "## **Data**"
   ]
  },
  {
   "cell_type": "code",
   "execution_count": 2,
   "id": "1d74367f",
   "metadata": {
    "execution": {
     "iopub.execute_input": "2023-03-22T10:38:45.026849Z",
     "iopub.status.busy": "2023-03-22T10:38:45.026397Z",
     "iopub.status.idle": "2023-03-22T10:38:45.219282Z",
     "shell.execute_reply": "2023-03-22T10:38:45.218000Z"
    },
    "papermill": {
     "duration": 0.20339,
     "end_time": "2023-03-22T10:38:45.222388",
     "exception": false,
     "start_time": "2023-03-22T10:38:45.018998",
     "status": "completed"
    },
    "tags": []
   },
   "outputs": [],
   "source": [
    "# Import data as dataframe\n",
    "data = pd.read_csv(\"/kaggle/input/vinbigdata-chest-xray-abnormalities-detection/train.csv\")\n",
    "test = pd.read_csv(\"/kaggle/input/vinbigdata-chest-xray-abnormalities-detection/sample_submission.csv\")"
   ]
  },
  {
   "cell_type": "code",
   "execution_count": 3,
   "id": "939c8f85",
   "metadata": {
    "execution": {
     "iopub.execute_input": "2023-03-22T10:38:45.236777Z",
     "iopub.status.busy": "2023-03-22T10:38:45.236362Z",
     "iopub.status.idle": "2023-03-22T10:38:45.271188Z",
     "shell.execute_reply": "2023-03-22T10:38:45.270249Z"
    },
    "papermill": {
     "duration": 0.045917,
     "end_time": "2023-03-22T10:38:45.274455",
     "exception": false,
     "start_time": "2023-03-22T10:38:45.228538",
     "status": "completed"
    },
    "tags": []
   },
   "outputs": [
    {
     "data": {
      "text/html": [
       "<div>\n",
       "<style scoped>\n",
       "    .dataframe tbody tr th:only-of-type {\n",
       "        vertical-align: middle;\n",
       "    }\n",
       "\n",
       "    .dataframe tbody tr th {\n",
       "        vertical-align: top;\n",
       "    }\n",
       "\n",
       "    .dataframe thead th {\n",
       "        text-align: right;\n",
       "    }\n",
       "</style>\n",
       "<table border=\"1\" class=\"dataframe\">\n",
       "  <thead>\n",
       "    <tr style=\"text-align: right;\">\n",
       "      <th></th>\n",
       "      <th>image_id</th>\n",
       "      <th>class_name</th>\n",
       "      <th>class_id</th>\n",
       "      <th>rad_id</th>\n",
       "      <th>x_min</th>\n",
       "      <th>y_min</th>\n",
       "      <th>x_max</th>\n",
       "      <th>y_max</th>\n",
       "    </tr>\n",
       "  </thead>\n",
       "  <tbody>\n",
       "    <tr>\n",
       "      <th>0</th>\n",
       "      <td>50a418190bc3fb1ef1633bf9678929b3</td>\n",
       "      <td>No finding</td>\n",
       "      <td>14</td>\n",
       "      <td>R11</td>\n",
       "      <td>NaN</td>\n",
       "      <td>NaN</td>\n",
       "      <td>NaN</td>\n",
       "      <td>NaN</td>\n",
       "    </tr>\n",
       "    <tr>\n",
       "      <th>1</th>\n",
       "      <td>21a10246a5ec7af151081d0cd6d65dc9</td>\n",
       "      <td>No finding</td>\n",
       "      <td>14</td>\n",
       "      <td>R7</td>\n",
       "      <td>NaN</td>\n",
       "      <td>NaN</td>\n",
       "      <td>NaN</td>\n",
       "      <td>NaN</td>\n",
       "    </tr>\n",
       "    <tr>\n",
       "      <th>2</th>\n",
       "      <td>9a5094b2563a1ef3ff50dc5c7ff71345</td>\n",
       "      <td>Cardiomegaly</td>\n",
       "      <td>3</td>\n",
       "      <td>R10</td>\n",
       "      <td>691.0</td>\n",
       "      <td>1375.0</td>\n",
       "      <td>1653.0</td>\n",
       "      <td>1831.0</td>\n",
       "    </tr>\n",
       "    <tr>\n",
       "      <th>3</th>\n",
       "      <td>051132a778e61a86eb147c7c6f564dfe</td>\n",
       "      <td>Aortic enlargement</td>\n",
       "      <td>0</td>\n",
       "      <td>R10</td>\n",
       "      <td>1264.0</td>\n",
       "      <td>743.0</td>\n",
       "      <td>1611.0</td>\n",
       "      <td>1019.0</td>\n",
       "    </tr>\n",
       "    <tr>\n",
       "      <th>4</th>\n",
       "      <td>063319de25ce7edb9b1c6b8881290140</td>\n",
       "      <td>No finding</td>\n",
       "      <td>14</td>\n",
       "      <td>R10</td>\n",
       "      <td>NaN</td>\n",
       "      <td>NaN</td>\n",
       "      <td>NaN</td>\n",
       "      <td>NaN</td>\n",
       "    </tr>\n",
       "    <tr>\n",
       "      <th>...</th>\n",
       "      <td>...</td>\n",
       "      <td>...</td>\n",
       "      <td>...</td>\n",
       "      <td>...</td>\n",
       "      <td>...</td>\n",
       "      <td>...</td>\n",
       "      <td>...</td>\n",
       "      <td>...</td>\n",
       "    </tr>\n",
       "    <tr>\n",
       "      <th>67909</th>\n",
       "      <td>936fd5cff1c058d39817a08f58b72cae</td>\n",
       "      <td>No finding</td>\n",
       "      <td>14</td>\n",
       "      <td>R1</td>\n",
       "      <td>NaN</td>\n",
       "      <td>NaN</td>\n",
       "      <td>NaN</td>\n",
       "      <td>NaN</td>\n",
       "    </tr>\n",
       "    <tr>\n",
       "      <th>67910</th>\n",
       "      <td>ca7e72954550eeb610fe22bf0244b7fa</td>\n",
       "      <td>No finding</td>\n",
       "      <td>14</td>\n",
       "      <td>R1</td>\n",
       "      <td>NaN</td>\n",
       "      <td>NaN</td>\n",
       "      <td>NaN</td>\n",
       "      <td>NaN</td>\n",
       "    </tr>\n",
       "    <tr>\n",
       "      <th>67911</th>\n",
       "      <td>aa17d5312a0fb4a2939436abca7f9579</td>\n",
       "      <td>No finding</td>\n",
       "      <td>14</td>\n",
       "      <td>R8</td>\n",
       "      <td>NaN</td>\n",
       "      <td>NaN</td>\n",
       "      <td>NaN</td>\n",
       "      <td>NaN</td>\n",
       "    </tr>\n",
       "    <tr>\n",
       "      <th>67912</th>\n",
       "      <td>4b56bc6d22b192f075f13231419dfcc8</td>\n",
       "      <td>Cardiomegaly</td>\n",
       "      <td>3</td>\n",
       "      <td>R8</td>\n",
       "      <td>771.0</td>\n",
       "      <td>979.0</td>\n",
       "      <td>1680.0</td>\n",
       "      <td>1311.0</td>\n",
       "    </tr>\n",
       "    <tr>\n",
       "      <th>67913</th>\n",
       "      <td>5e272e3adbdaafb07a7e84a9e62b1a4c</td>\n",
       "      <td>No finding</td>\n",
       "      <td>14</td>\n",
       "      <td>R16</td>\n",
       "      <td>NaN</td>\n",
       "      <td>NaN</td>\n",
       "      <td>NaN</td>\n",
       "      <td>NaN</td>\n",
       "    </tr>\n",
       "  </tbody>\n",
       "</table>\n",
       "<p>67914 rows × 8 columns</p>\n",
       "</div>"
      ],
      "text/plain": [
       "                               image_id          class_name  class_id rad_id  \\\n",
       "0      50a418190bc3fb1ef1633bf9678929b3          No finding        14    R11   \n",
       "1      21a10246a5ec7af151081d0cd6d65dc9          No finding        14     R7   \n",
       "2      9a5094b2563a1ef3ff50dc5c7ff71345        Cardiomegaly         3    R10   \n",
       "3      051132a778e61a86eb147c7c6f564dfe  Aortic enlargement         0    R10   \n",
       "4      063319de25ce7edb9b1c6b8881290140          No finding        14    R10   \n",
       "...                                 ...                 ...       ...    ...   \n",
       "67909  936fd5cff1c058d39817a08f58b72cae          No finding        14     R1   \n",
       "67910  ca7e72954550eeb610fe22bf0244b7fa          No finding        14     R1   \n",
       "67911  aa17d5312a0fb4a2939436abca7f9579          No finding        14     R8   \n",
       "67912  4b56bc6d22b192f075f13231419dfcc8        Cardiomegaly         3     R8   \n",
       "67913  5e272e3adbdaafb07a7e84a9e62b1a4c          No finding        14    R16   \n",
       "\n",
       "        x_min   y_min   x_max   y_max  \n",
       "0         NaN     NaN     NaN     NaN  \n",
       "1         NaN     NaN     NaN     NaN  \n",
       "2       691.0  1375.0  1653.0  1831.0  \n",
       "3      1264.0   743.0  1611.0  1019.0  \n",
       "4         NaN     NaN     NaN     NaN  \n",
       "...       ...     ...     ...     ...  \n",
       "67909     NaN     NaN     NaN     NaN  \n",
       "67910     NaN     NaN     NaN     NaN  \n",
       "67911     NaN     NaN     NaN     NaN  \n",
       "67912   771.0   979.0  1680.0  1311.0  \n",
       "67913     NaN     NaN     NaN     NaN  \n",
       "\n",
       "[67914 rows x 8 columns]"
      ]
     },
     "execution_count": 3,
     "metadata": {},
     "output_type": "execute_result"
    }
   ],
   "source": [
    "# Display data dataframe\n",
    "data"
   ]
  },
  {
   "cell_type": "code",
   "execution_count": 4,
   "id": "877e8260",
   "metadata": {
    "execution": {
     "iopub.execute_input": "2023-03-22T10:38:45.289857Z",
     "iopub.status.busy": "2023-03-22T10:38:45.289405Z",
     "iopub.status.idle": "2023-03-22T10:38:45.302715Z",
     "shell.execute_reply": "2023-03-22T10:38:45.301529Z"
    },
    "papermill": {
     "duration": 0.023965,
     "end_time": "2023-03-22T10:38:45.305260",
     "exception": false,
     "start_time": "2023-03-22T10:38:45.281295",
     "status": "completed"
    },
    "tags": []
   },
   "outputs": [
    {
     "data": {
      "text/html": [
       "<div>\n",
       "<style scoped>\n",
       "    .dataframe tbody tr th:only-of-type {\n",
       "        vertical-align: middle;\n",
       "    }\n",
       "\n",
       "    .dataframe tbody tr th {\n",
       "        vertical-align: top;\n",
       "    }\n",
       "\n",
       "    .dataframe thead th {\n",
       "        text-align: right;\n",
       "    }\n",
       "</style>\n",
       "<table border=\"1\" class=\"dataframe\">\n",
       "  <thead>\n",
       "    <tr style=\"text-align: right;\">\n",
       "      <th></th>\n",
       "      <th>image_id</th>\n",
       "      <th>PredictionString</th>\n",
       "    </tr>\n",
       "  </thead>\n",
       "  <tbody>\n",
       "    <tr>\n",
       "      <th>0</th>\n",
       "      <td>002a34c58c5b758217ed1f584ccbcfe9</td>\n",
       "      <td>14 1 0 0 1 1</td>\n",
       "    </tr>\n",
       "    <tr>\n",
       "      <th>1</th>\n",
       "      <td>004f33259ee4aef671c2b95d54e4be68</td>\n",
       "      <td>14 1 0 0 1 1</td>\n",
       "    </tr>\n",
       "    <tr>\n",
       "      <th>2</th>\n",
       "      <td>008bdde2af2462e86fd373a445d0f4cd</td>\n",
       "      <td>14 1 0 0 1 1</td>\n",
       "    </tr>\n",
       "    <tr>\n",
       "      <th>3</th>\n",
       "      <td>009bc039326338823ca3aa84381f17f1</td>\n",
       "      <td>14 1 0 0 1 1</td>\n",
       "    </tr>\n",
       "    <tr>\n",
       "      <th>4</th>\n",
       "      <td>00a2145de1886cb9eb88869c85d74080</td>\n",
       "      <td>14 1 0 0 1 1</td>\n",
       "    </tr>\n",
       "    <tr>\n",
       "      <th>...</th>\n",
       "      <td>...</td>\n",
       "      <td>...</td>\n",
       "    </tr>\n",
       "    <tr>\n",
       "      <th>2995</th>\n",
       "      <td>ff91fb82429a27521bbec8569b041f02</td>\n",
       "      <td>14 1 0 0 1 1</td>\n",
       "    </tr>\n",
       "    <tr>\n",
       "      <th>2996</th>\n",
       "      <td>ff9fcc4087ed5e941209aa3fa948e364</td>\n",
       "      <td>14 1 0 0 1 1</td>\n",
       "    </tr>\n",
       "    <tr>\n",
       "      <th>2997</th>\n",
       "      <td>ffaa288c8abca300974f043b57d81521</td>\n",
       "      <td>14 1 0 0 1 1</td>\n",
       "    </tr>\n",
       "    <tr>\n",
       "      <th>2998</th>\n",
       "      <td>ffc441e0c8b7153844047483a577e7c3</td>\n",
       "      <td>14 1 0 0 1 1</td>\n",
       "    </tr>\n",
       "    <tr>\n",
       "      <th>2999</th>\n",
       "      <td>ffccf1709d0081d122a1d1f9edbefdf1</td>\n",
       "      <td>14 1 0 0 1 1</td>\n",
       "    </tr>\n",
       "  </tbody>\n",
       "</table>\n",
       "<p>3000 rows × 2 columns</p>\n",
       "</div>"
      ],
      "text/plain": [
       "                              image_id PredictionString\n",
       "0     002a34c58c5b758217ed1f584ccbcfe9     14 1 0 0 1 1\n",
       "1     004f33259ee4aef671c2b95d54e4be68     14 1 0 0 1 1\n",
       "2     008bdde2af2462e86fd373a445d0f4cd     14 1 0 0 1 1\n",
       "3     009bc039326338823ca3aa84381f17f1     14 1 0 0 1 1\n",
       "4     00a2145de1886cb9eb88869c85d74080     14 1 0 0 1 1\n",
       "...                                ...              ...\n",
       "2995  ff91fb82429a27521bbec8569b041f02     14 1 0 0 1 1\n",
       "2996  ff9fcc4087ed5e941209aa3fa948e364     14 1 0 0 1 1\n",
       "2997  ffaa288c8abca300974f043b57d81521     14 1 0 0 1 1\n",
       "2998  ffc441e0c8b7153844047483a577e7c3     14 1 0 0 1 1\n",
       "2999  ffccf1709d0081d122a1d1f9edbefdf1     14 1 0 0 1 1\n",
       "\n",
       "[3000 rows x 2 columns]"
      ]
     },
     "execution_count": 4,
     "metadata": {},
     "output_type": "execute_result"
    }
   ],
   "source": [
    "# Display test dataframe\n",
    "test"
   ]
  },
  {
   "cell_type": "code",
   "execution_count": 5,
   "id": "7614bbcd",
   "metadata": {
    "execution": {
     "iopub.execute_input": "2023-03-22T10:38:45.321828Z",
     "iopub.status.busy": "2023-03-22T10:38:45.320774Z",
     "iopub.status.idle": "2023-03-22T10:38:45.358082Z",
     "shell.execute_reply": "2023-03-22T10:38:45.356008Z"
    },
    "papermill": {
     "duration": 0.048259,
     "end_time": "2023-03-22T10:38:45.360558",
     "exception": false,
     "start_time": "2023-03-22T10:38:45.312299",
     "status": "completed"
    },
    "tags": []
   },
   "outputs": [
    {
     "name": "stdout",
     "output_type": "stream",
     "text": [
      "<class 'pandas.core.frame.DataFrame'>\n",
      "RangeIndex: 67914 entries, 0 to 67913\n",
      "Data columns (total 8 columns):\n",
      " #   Column      Non-Null Count  Dtype  \n",
      "---  ------      --------------  -----  \n",
      " 0   image_id    67914 non-null  object \n",
      " 1   class_name  67914 non-null  object \n",
      " 2   class_id    67914 non-null  int64  \n",
      " 3   rad_id      67914 non-null  object \n",
      " 4   x_min       36096 non-null  float64\n",
      " 5   y_min       36096 non-null  float64\n",
      " 6   x_max       36096 non-null  float64\n",
      " 7   y_max       36096 non-null  float64\n",
      "dtypes: float64(4), int64(1), object(3)\n",
      "memory usage: 4.1+ MB\n"
     ]
    }
   ],
   "source": [
    "# Display information on the 'data' dataframe\n",
    "data.info()"
   ]
  },
  {
   "cell_type": "code",
   "execution_count": 6,
   "id": "2e6bc42d",
   "metadata": {
    "execution": {
     "iopub.execute_input": "2023-03-22T10:38:45.376880Z",
     "iopub.status.busy": "2023-03-22T10:38:45.376434Z",
     "iopub.status.idle": "2023-03-22T10:38:45.430749Z",
     "shell.execute_reply": "2023-03-22T10:38:45.429842Z"
    },
    "papermill": {
     "duration": 0.065145,
     "end_time": "2023-03-22T10:38:45.433084",
     "exception": false,
     "start_time": "2023-03-22T10:38:45.367939",
     "status": "completed"
    },
    "tags": []
   },
   "outputs": [
    {
     "data": {
      "text/html": [
       "<div>\n",
       "<style scoped>\n",
       "    .dataframe tbody tr th:only-of-type {\n",
       "        vertical-align: middle;\n",
       "    }\n",
       "\n",
       "    .dataframe tbody tr th {\n",
       "        vertical-align: top;\n",
       "    }\n",
       "\n",
       "    .dataframe thead th {\n",
       "        text-align: right;\n",
       "    }\n",
       "</style>\n",
       "<table border=\"1\" class=\"dataframe\">\n",
       "  <thead>\n",
       "    <tr style=\"text-align: right;\">\n",
       "      <th></th>\n",
       "      <th>class_id</th>\n",
       "      <th>x_min</th>\n",
       "      <th>y_min</th>\n",
       "      <th>x_max</th>\n",
       "      <th>y_max</th>\n",
       "    </tr>\n",
       "  </thead>\n",
       "  <tbody>\n",
       "    <tr>\n",
       "      <th>count</th>\n",
       "      <td>67914.000000</td>\n",
       "      <td>36096.000000</td>\n",
       "      <td>36096.000000</td>\n",
       "      <td>36096.000000</td>\n",
       "      <td>36096.000000</td>\n",
       "    </tr>\n",
       "    <tr>\n",
       "      <th>mean</th>\n",
       "      <td>9.979312</td>\n",
       "      <td>1051.332696</td>\n",
       "      <td>1065.262051</td>\n",
       "      <td>1492.269337</td>\n",
       "      <td>1456.660489</td>\n",
       "    </tr>\n",
       "    <tr>\n",
       "      <th>std</th>\n",
       "      <td>5.036494</td>\n",
       "      <td>565.838078</td>\n",
       "      <td>552.925133</td>\n",
       "      <td>595.384126</td>\n",
       "      <td>581.134138</td>\n",
       "    </tr>\n",
       "    <tr>\n",
       "      <th>min</th>\n",
       "      <td>0.000000</td>\n",
       "      <td>0.000000</td>\n",
       "      <td>0.000000</td>\n",
       "      <td>68.000000</td>\n",
       "      <td>103.000000</td>\n",
       "    </tr>\n",
       "    <tr>\n",
       "      <th>25%</th>\n",
       "      <td>7.000000</td>\n",
       "      <td>602.000000</td>\n",
       "      <td>627.000000</td>\n",
       "      <td>1010.000000</td>\n",
       "      <td>1009.000000</td>\n",
       "    </tr>\n",
       "    <tr>\n",
       "      <th>50%</th>\n",
       "      <td>13.000000</td>\n",
       "      <td>1014.500000</td>\n",
       "      <td>935.000000</td>\n",
       "      <td>1567.000000</td>\n",
       "      <td>1411.000000</td>\n",
       "    </tr>\n",
       "    <tr>\n",
       "      <th>75%</th>\n",
       "      <td>14.000000</td>\n",
       "      <td>1457.000000</td>\n",
       "      <td>1471.000000</td>\n",
       "      <td>1947.000000</td>\n",
       "      <td>1911.000000</td>\n",
       "    </tr>\n",
       "    <tr>\n",
       "      <th>max</th>\n",
       "      <td>14.000000</td>\n",
       "      <td>2934.000000</td>\n",
       "      <td>3133.000000</td>\n",
       "      <td>3131.000000</td>\n",
       "      <td>3384.000000</td>\n",
       "    </tr>\n",
       "  </tbody>\n",
       "</table>\n",
       "</div>"
      ],
      "text/plain": [
       "           class_id         x_min         y_min         x_max         y_max\n",
       "count  67914.000000  36096.000000  36096.000000  36096.000000  36096.000000\n",
       "mean       9.979312   1051.332696   1065.262051   1492.269337   1456.660489\n",
       "std        5.036494    565.838078    552.925133    595.384126    581.134138\n",
       "min        0.000000      0.000000      0.000000     68.000000    103.000000\n",
       "25%        7.000000    602.000000    627.000000   1010.000000   1009.000000\n",
       "50%       13.000000   1014.500000    935.000000   1567.000000   1411.000000\n",
       "75%       14.000000   1457.000000   1471.000000   1947.000000   1911.000000\n",
       "max       14.000000   2934.000000   3133.000000   3131.000000   3384.000000"
      ]
     },
     "execution_count": 6,
     "metadata": {},
     "output_type": "execute_result"
    }
   ],
   "source": [
    "# Some statistics on the 'data' dataframe\n",
    "data.describe()"
   ]
  },
  {
   "cell_type": "markdown",
   "id": "558a83e7",
   "metadata": {
    "papermill": {
     "duration": 0.006981,
     "end_time": "2023-03-22T10:38:45.447653",
     "exception": false,
     "start_time": "2023-03-22T10:38:45.440672",
     "status": "completed"
    },
    "tags": []
   },
   "source": [
    "## **Data visualisation**"
   ]
  },
  {
   "cell_type": "code",
   "execution_count": 7,
   "id": "380cd140",
   "metadata": {
    "execution": {
     "iopub.execute_input": "2023-03-22T10:38:45.465339Z",
     "iopub.status.busy": "2023-03-22T10:38:45.464389Z",
     "iopub.status.idle": "2023-03-22T10:38:46.066403Z",
     "shell.execute_reply": "2023-03-22T10:38:46.065111Z"
    },
    "papermill": {
     "duration": 0.61411,
     "end_time": "2023-03-22T10:38:46.069155",
     "exception": false,
     "start_time": "2023-03-22T10:38:45.455045",
     "status": "completed"
    },
    "tags": []
   },
   "outputs": [
    {
     "data": {
      "text/plain": [
       "<seaborn.axisgrid.FacetGrid at 0x7f1a17161250>"
      ]
     },
     "execution_count": 7,
     "metadata": {},
     "output_type": "execute_result"
    },
    {
     "data": {
      "image/png": "[encoded data removed]",
      "text/plain": [
       "<Figure size 2500x500 with 1 Axes>"
      ]
     },
     "metadata": {},
     "output_type": "display_data"
    }
   ],
   "source": [
    "# Display the count for all abnormalities\n",
    "sns.catplot(data=data, x=\"class_name\", kind=\"count\", height=5, aspect=5, order=data['class_name'].value_counts().index)"
   ]
  },
  {
   "cell_type": "code",
   "execution_count": 8,
   "id": "0a0aeb0f",
   "metadata": {
    "execution": {
     "iopub.execute_input": "2023-03-22T10:38:46.088146Z",
     "iopub.status.busy": "2023-03-22T10:38:46.087000Z",
     "iopub.status.idle": "2023-03-22T10:38:46.588270Z",
     "shell.execute_reply": "2023-03-22T10:38:46.586983Z"
    },
    "papermill": {
     "duration": 0.513413,
     "end_time": "2023-03-22T10:38:46.591066",
     "exception": false,
     "start_time": "2023-03-22T10:38:46.077653",
     "status": "completed"
    },
    "tags": []
   },
   "outputs": [
    {
     "data": {
      "text/plain": [
       "<seaborn.axisgrid.FacetGrid at 0x7f1a16be7a90>"
      ]
     },
     "execution_count": 8,
     "metadata": {},
     "output_type": "execute_result"
    },
    {
     "data": {
      "image/png": "[encoded data removed]",
      "text/plain": [
       "<Figure size 1000x500 with 1 Axes>"
      ]
     },
     "metadata": {},
     "output_type": "display_data"
    }
   ],
   "source": [
    "# Display the number of diagnoses per radiologists\n",
    "sns.catplot(data=data, x=\"rad_id\", kind=\"count\", aspect=2, order=data['rad_id'].value_counts().index)"
   ]
  },
  {
   "cell_type": "code",
   "execution_count": 9,
   "id": "c2f9f286",
   "metadata": {
    "execution": {
     "iopub.execute_input": "2023-03-22T10:38:46.610541Z",
     "iopub.status.busy": "2023-03-22T10:38:46.610041Z",
     "iopub.status.idle": "2023-03-22T10:38:48.332635Z",
     "shell.execute_reply": "2023-03-22T10:38:48.331414Z"
    },
    "papermill": {
     "duration": 1.735365,
     "end_time": "2023-03-22T10:38:48.335503",
     "exception": false,
     "start_time": "2023-03-22T10:38:46.600138",
     "status": "completed"
    },
    "tags": []
   },
   "outputs": [
    {
     "data": {
      "text/plain": [
       "<seaborn.axisgrid.FacetGrid at 0x7f1a170b9510>"
      ]
     },
     "execution_count": 9,
     "metadata": {},
     "output_type": "execute_result"
    },
    {
     "data": {
      "image/png": "[encoded data removed]",
      "text/plain": [
       "<Figure size 1183.75x500 with 1 Axes>"
      ]
     },
     "metadata": {},
     "output_type": "display_data"
    }
   ],
   "source": [
    "# Display the number of diagnoses per radiologists and per abnormalities\n",
    "sns.catplot(data=data, x=\"rad_id\", kind=\"count\", hue = \"class_name\", hue_order=data['class_name'].value_counts().index , aspect=2, order=data['rad_id'].value_counts().index)"
   ]
  },
  {
   "cell_type": "code",
   "execution_count": 10,
   "id": "4f529f24",
   "metadata": {
    "execution": {
     "iopub.execute_input": "2023-03-22T10:38:48.357133Z",
     "iopub.status.busy": "2023-03-22T10:38:48.356692Z",
     "iopub.status.idle": "2023-03-22T10:38:48.372212Z",
     "shell.execute_reply": "2023-03-22T10:38:48.370994Z"
    },
    "papermill": {
     "duration": 0.029559,
     "end_time": "2023-03-22T10:38:48.374905",
     "exception": false,
     "start_time": "2023-03-22T10:38:48.345346",
     "status": "completed"
    },
    "tags": []
   },
   "outputs": [],
   "source": [
    "# Creating 2 dataframes from 'data'\n",
    "# One with the 14 classes\n",
    "# The other one with only the class \"No Finding\"\n",
    "data_14 = data[data.class_id!=14].reset_index(drop = True)\n",
    "data_1 = data[data.class_id==14].reset_index(drop = True)"
   ]
  },
  {
   "cell_type": "code",
   "execution_count": 11,
   "id": "d57cc845",
   "metadata": {
    "execution": {
     "iopub.execute_input": "2023-03-22T10:38:48.396459Z",
     "iopub.status.busy": "2023-03-22T10:38:48.395965Z",
     "iopub.status.idle": "2023-03-22T10:38:48.418813Z",
     "shell.execute_reply": "2023-03-22T10:38:48.417496Z"
    },
    "papermill": {
     "duration": 0.036736,
     "end_time": "2023-03-22T10:38:48.421337",
     "exception": false,
     "start_time": "2023-03-22T10:38:48.384601",
     "status": "completed"
    },
    "tags": []
   },
   "outputs": [
    {
     "data": {
      "text/html": [
       "<div>\n",
       "<style scoped>\n",
       "    .dataframe tbody tr th:only-of-type {\n",
       "        vertical-align: middle;\n",
       "    }\n",
       "\n",
       "    .dataframe tbody tr th {\n",
       "        vertical-align: top;\n",
       "    }\n",
       "\n",
       "    .dataframe thead th {\n",
       "        text-align: right;\n",
       "    }\n",
       "</style>\n",
       "<table border=\"1\" class=\"dataframe\">\n",
       "  <thead>\n",
       "    <tr style=\"text-align: right;\">\n",
       "      <th></th>\n",
       "      <th>image_id</th>\n",
       "      <th>class_name</th>\n",
       "      <th>class_id</th>\n",
       "      <th>rad_id</th>\n",
       "      <th>x_min</th>\n",
       "      <th>y_min</th>\n",
       "      <th>x_max</th>\n",
       "      <th>y_max</th>\n",
       "    </tr>\n",
       "  </thead>\n",
       "  <tbody>\n",
       "    <tr>\n",
       "      <th>0</th>\n",
       "      <td>9a5094b2563a1ef3ff50dc5c7ff71345</td>\n",
       "      <td>Cardiomegaly</td>\n",
       "      <td>3</td>\n",
       "      <td>R10</td>\n",
       "      <td>691.0</td>\n",
       "      <td>1375.0</td>\n",
       "      <td>1653.0</td>\n",
       "      <td>1831.0</td>\n",
       "    </tr>\n",
       "    <tr>\n",
       "      <th>1</th>\n",
       "      <td>051132a778e61a86eb147c7c6f564dfe</td>\n",
       "      <td>Aortic enlargement</td>\n",
       "      <td>0</td>\n",
       "      <td>R10</td>\n",
       "      <td>1264.0</td>\n",
       "      <td>743.0</td>\n",
       "      <td>1611.0</td>\n",
       "      <td>1019.0</td>\n",
       "    </tr>\n",
       "    <tr>\n",
       "      <th>2</th>\n",
       "      <td>1c32170b4af4ce1a3030eb8167753b06</td>\n",
       "      <td>Pleural thickening</td>\n",
       "      <td>11</td>\n",
       "      <td>R9</td>\n",
       "      <td>627.0</td>\n",
       "      <td>357.0</td>\n",
       "      <td>947.0</td>\n",
       "      <td>433.0</td>\n",
       "    </tr>\n",
       "    <tr>\n",
       "      <th>3</th>\n",
       "      <td>0c7a38f293d5f5e4846aa4ca6db4daf1</td>\n",
       "      <td>ILD</td>\n",
       "      <td>5</td>\n",
       "      <td>R17</td>\n",
       "      <td>1347.0</td>\n",
       "      <td>245.0</td>\n",
       "      <td>2188.0</td>\n",
       "      <td>2169.0</td>\n",
       "    </tr>\n",
       "    <tr>\n",
       "      <th>4</th>\n",
       "      <td>47ed17dcb2cbeec15182ed335a8b5a9e</td>\n",
       "      <td>Nodule/Mass</td>\n",
       "      <td>8</td>\n",
       "      <td>R9</td>\n",
       "      <td>557.0</td>\n",
       "      <td>2352.0</td>\n",
       "      <td>675.0</td>\n",
       "      <td>2484.0</td>\n",
       "    </tr>\n",
       "    <tr>\n",
       "      <th>...</th>\n",
       "      <td>...</td>\n",
       "      <td>...</td>\n",
       "      <td>...</td>\n",
       "      <td>...</td>\n",
       "      <td>...</td>\n",
       "      <td>...</td>\n",
       "      <td>...</td>\n",
       "      <td>...</td>\n",
       "    </tr>\n",
       "    <tr>\n",
       "      <th>36091</th>\n",
       "      <td>b53d1dd80e99ca6bcef9d592f65d3321</td>\n",
       "      <td>Pleural effusion</td>\n",
       "      <td>10</td>\n",
       "      <td>R9</td>\n",
       "      <td>240.0</td>\n",
       "      <td>1550.0</td>\n",
       "      <td>562.0</td>\n",
       "      <td>2001.0</td>\n",
       "    </tr>\n",
       "    <tr>\n",
       "      <th>36092</th>\n",
       "      <td>26d1d5a0ef2e692c6340e74859ffdc53</td>\n",
       "      <td>Pulmonary fibrosis</td>\n",
       "      <td>13</td>\n",
       "      <td>R10</td>\n",
       "      <td>1163.0</td>\n",
       "      <td>787.0</td>\n",
       "      <td>1338.0</td>\n",
       "      <td>941.0</td>\n",
       "    </tr>\n",
       "    <tr>\n",
       "      <th>36093</th>\n",
       "      <td>22672ab82c290c20b86863291e25ef6c</td>\n",
       "      <td>ILD</td>\n",
       "      <td>5</td>\n",
       "      <td>R9</td>\n",
       "      <td>299.0</td>\n",
       "      <td>664.0</td>\n",
       "      <td>794.0</td>\n",
       "      <td>1508.0</td>\n",
       "    </tr>\n",
       "    <tr>\n",
       "      <th>36094</th>\n",
       "      <td>db169d0be36123bd55b866d6aa73983b</td>\n",
       "      <td>Other lesion</td>\n",
       "      <td>9</td>\n",
       "      <td>R8</td>\n",
       "      <td>6.0</td>\n",
       "      <td>670.0</td>\n",
       "      <td>272.0</td>\n",
       "      <td>1736.0</td>\n",
       "    </tr>\n",
       "    <tr>\n",
       "      <th>36095</th>\n",
       "      <td>4b56bc6d22b192f075f13231419dfcc8</td>\n",
       "      <td>Cardiomegaly</td>\n",
       "      <td>3</td>\n",
       "      <td>R8</td>\n",
       "      <td>771.0</td>\n",
       "      <td>979.0</td>\n",
       "      <td>1680.0</td>\n",
       "      <td>1311.0</td>\n",
       "    </tr>\n",
       "  </tbody>\n",
       "</table>\n",
       "<p>36096 rows × 8 columns</p>\n",
       "</div>"
      ],
      "text/plain": [
       "                               image_id          class_name  class_id rad_id  \\\n",
       "0      9a5094b2563a1ef3ff50dc5c7ff71345        Cardiomegaly         3    R10   \n",
       "1      051132a778e61a86eb147c7c6f564dfe  Aortic enlargement         0    R10   \n",
       "2      1c32170b4af4ce1a3030eb8167753b06  Pleural thickening        11     R9   \n",
       "3      0c7a38f293d5f5e4846aa4ca6db4daf1                 ILD         5    R17   \n",
       "4      47ed17dcb2cbeec15182ed335a8b5a9e         Nodule/Mass         8     R9   \n",
       "...                                 ...                 ...       ...    ...   \n",
       "36091  b53d1dd80e99ca6bcef9d592f65d3321    Pleural effusion        10     R9   \n",
       "36092  26d1d5a0ef2e692c6340e74859ffdc53  Pulmonary fibrosis        13    R10   \n",
       "36093  22672ab82c290c20b86863291e25ef6c                 ILD         5     R9   \n",
       "36094  db169d0be36123bd55b866d6aa73983b        Other lesion         9     R8   \n",
       "36095  4b56bc6d22b192f075f13231419dfcc8        Cardiomegaly         3     R8   \n",
       "\n",
       "        x_min   y_min   x_max   y_max  \n",
       "0       691.0  1375.0  1653.0  1831.0  \n",
       "1      1264.0   743.0  1611.0  1019.0  \n",
       "2       627.0   357.0   947.0   433.0  \n",
       "3      1347.0   245.0  2188.0  2169.0  \n",
       "4       557.0  2352.0   675.0  2484.0  \n",
       "...       ...     ...     ...     ...  \n",
       "36091   240.0  1550.0   562.0  2001.0  \n",
       "36092  1163.0   787.0  1338.0   941.0  \n",
       "36093   299.0   664.0   794.0  1508.0  \n",
       "36094     6.0   670.0   272.0  1736.0  \n",
       "36095   771.0   979.0  1680.0  1311.0  \n",
       "\n",
       "[36096 rows x 8 columns]"
      ]
     },
     "execution_count": 11,
     "metadata": {},
     "output_type": "execute_result"
    }
   ],
   "source": [
    "# Display the dataframe with the 14 different classes\n",
    "data_14"
   ]
  },
  {
   "cell_type": "code",
   "execution_count": 12,
   "id": "4425424e",
   "metadata": {
    "execution": {
     "iopub.execute_input": "2023-03-22T10:38:48.443739Z",
     "iopub.status.busy": "2023-03-22T10:38:48.443276Z",
     "iopub.status.idle": "2023-03-22T10:38:48.461969Z",
     "shell.execute_reply": "2023-03-22T10:38:48.460867Z"
    },
    "papermill": {
     "duration": 0.033064,
     "end_time": "2023-03-22T10:38:48.464591",
     "exception": false,
     "start_time": "2023-03-22T10:38:48.431527",
     "status": "completed"
    },
    "tags": []
   },
   "outputs": [
    {
     "data": {
      "text/html": [
       "<div>\n",
       "<style scoped>\n",
       "    .dataframe tbody tr th:only-of-type {\n",
       "        vertical-align: middle;\n",
       "    }\n",
       "\n",
       "    .dataframe tbody tr th {\n",
       "        vertical-align: top;\n",
       "    }\n",
       "\n",
       "    .dataframe thead th {\n",
       "        text-align: right;\n",
       "    }\n",
       "</style>\n",
       "<table border=\"1\" class=\"dataframe\">\n",
       "  <thead>\n",
       "    <tr style=\"text-align: right;\">\n",
       "      <th></th>\n",
       "      <th>image_id</th>\n",
       "      <th>class_name</th>\n",
       "      <th>class_id</th>\n",
       "      <th>rad_id</th>\n",
       "      <th>x_min</th>\n",
       "      <th>y_min</th>\n",
       "      <th>x_max</th>\n",
       "      <th>y_max</th>\n",
       "    </tr>\n",
       "  </thead>\n",
       "  <tbody>\n",
       "    <tr>\n",
       "      <th>0</th>\n",
       "      <td>50a418190bc3fb1ef1633bf9678929b3</td>\n",
       "      <td>No finding</td>\n",
       "      <td>14</td>\n",
       "      <td>R11</td>\n",
       "      <td>NaN</td>\n",
       "      <td>NaN</td>\n",
       "      <td>NaN</td>\n",
       "      <td>NaN</td>\n",
       "    </tr>\n",
       "    <tr>\n",
       "      <th>1</th>\n",
       "      <td>21a10246a5ec7af151081d0cd6d65dc9</td>\n",
       "      <td>No finding</td>\n",
       "      <td>14</td>\n",
       "      <td>R7</td>\n",
       "      <td>NaN</td>\n",
       "      <td>NaN</td>\n",
       "      <td>NaN</td>\n",
       "      <td>NaN</td>\n",
       "    </tr>\n",
       "    <tr>\n",
       "      <th>2</th>\n",
       "      <td>063319de25ce7edb9b1c6b8881290140</td>\n",
       "      <td>No finding</td>\n",
       "      <td>14</td>\n",
       "      <td>R10</td>\n",
       "      <td>NaN</td>\n",
       "      <td>NaN</td>\n",
       "      <td>NaN</td>\n",
       "      <td>NaN</td>\n",
       "    </tr>\n",
       "    <tr>\n",
       "      <th>3</th>\n",
       "      <td>5550a493b1c4554da469a072fdfab974</td>\n",
       "      <td>No finding</td>\n",
       "      <td>14</td>\n",
       "      <td>R9</td>\n",
       "      <td>NaN</td>\n",
       "      <td>NaN</td>\n",
       "      <td>NaN</td>\n",
       "      <td>NaN</td>\n",
       "    </tr>\n",
       "    <tr>\n",
       "      <th>4</th>\n",
       "      <td>869f39afbdd8783b531530942eda8bad</td>\n",
       "      <td>No finding</td>\n",
       "      <td>14</td>\n",
       "      <td>R3</td>\n",
       "      <td>NaN</td>\n",
       "      <td>NaN</td>\n",
       "      <td>NaN</td>\n",
       "      <td>NaN</td>\n",
       "    </tr>\n",
       "    <tr>\n",
       "      <th>...</th>\n",
       "      <td>...</td>\n",
       "      <td>...</td>\n",
       "      <td>...</td>\n",
       "      <td>...</td>\n",
       "      <td>...</td>\n",
       "      <td>...</td>\n",
       "      <td>...</td>\n",
       "      <td>...</td>\n",
       "    </tr>\n",
       "    <tr>\n",
       "      <th>31813</th>\n",
       "      <td>955f258cc29153f996ee6716218c1196</td>\n",
       "      <td>No finding</td>\n",
       "      <td>14</td>\n",
       "      <td>R8</td>\n",
       "      <td>NaN</td>\n",
       "      <td>NaN</td>\n",
       "      <td>NaN</td>\n",
       "      <td>NaN</td>\n",
       "    </tr>\n",
       "    <tr>\n",
       "      <th>31814</th>\n",
       "      <td>936fd5cff1c058d39817a08f58b72cae</td>\n",
       "      <td>No finding</td>\n",
       "      <td>14</td>\n",
       "      <td>R1</td>\n",
       "      <td>NaN</td>\n",
       "      <td>NaN</td>\n",
       "      <td>NaN</td>\n",
       "      <td>NaN</td>\n",
       "    </tr>\n",
       "    <tr>\n",
       "      <th>31815</th>\n",
       "      <td>ca7e72954550eeb610fe22bf0244b7fa</td>\n",
       "      <td>No finding</td>\n",
       "      <td>14</td>\n",
       "      <td>R1</td>\n",
       "      <td>NaN</td>\n",
       "      <td>NaN</td>\n",
       "      <td>NaN</td>\n",
       "      <td>NaN</td>\n",
       "    </tr>\n",
       "    <tr>\n",
       "      <th>31816</th>\n",
       "      <td>aa17d5312a0fb4a2939436abca7f9579</td>\n",
       "      <td>No finding</td>\n",
       "      <td>14</td>\n",
       "      <td>R8</td>\n",
       "      <td>NaN</td>\n",
       "      <td>NaN</td>\n",
       "      <td>NaN</td>\n",
       "      <td>NaN</td>\n",
       "    </tr>\n",
       "    <tr>\n",
       "      <th>31817</th>\n",
       "      <td>5e272e3adbdaafb07a7e84a9e62b1a4c</td>\n",
       "      <td>No finding</td>\n",
       "      <td>14</td>\n",
       "      <td>R16</td>\n",
       "      <td>NaN</td>\n",
       "      <td>NaN</td>\n",
       "      <td>NaN</td>\n",
       "      <td>NaN</td>\n",
       "    </tr>\n",
       "  </tbody>\n",
       "</table>\n",
       "<p>31818 rows × 8 columns</p>\n",
       "</div>"
      ],
      "text/plain": [
       "                               image_id  class_name  class_id rad_id  x_min  \\\n",
       "0      50a418190bc3fb1ef1633bf9678929b3  No finding        14    R11    NaN   \n",
       "1      21a10246a5ec7af151081d0cd6d65dc9  No finding        14     R7    NaN   \n",
       "2      063319de25ce7edb9b1c6b8881290140  No finding        14    R10    NaN   \n",
       "3      5550a493b1c4554da469a072fdfab974  No finding        14     R9    NaN   \n",
       "4      869f39afbdd8783b531530942eda8bad  No finding        14     R3    NaN   \n",
       "...                                 ...         ...       ...    ...    ...   \n",
       "31813  955f258cc29153f996ee6716218c1196  No finding        14     R8    NaN   \n",
       "31814  936fd5cff1c058d39817a08f58b72cae  No finding        14     R1    NaN   \n",
       "31815  ca7e72954550eeb610fe22bf0244b7fa  No finding        14     R1    NaN   \n",
       "31816  aa17d5312a0fb4a2939436abca7f9579  No finding        14     R8    NaN   \n",
       "31817  5e272e3adbdaafb07a7e84a9e62b1a4c  No finding        14    R16    NaN   \n",
       "\n",
       "       y_min  x_max  y_max  \n",
       "0        NaN    NaN    NaN  \n",
       "1        NaN    NaN    NaN  \n",
       "2        NaN    NaN    NaN  \n",
       "3        NaN    NaN    NaN  \n",
       "4        NaN    NaN    NaN  \n",
       "...      ...    ...    ...  \n",
       "31813    NaN    NaN    NaN  \n",
       "31814    NaN    NaN    NaN  \n",
       "31815    NaN    NaN    NaN  \n",
       "31816    NaN    NaN    NaN  \n",
       "31817    NaN    NaN    NaN  \n",
       "\n",
       "[31818 rows x 8 columns]"
      ]
     },
     "execution_count": 12,
     "metadata": {},
     "output_type": "execute_result"
    }
   ],
   "source": [
    "# Display the dataframe with only the class \"No Finding\"\n",
    "data_1"
   ]
  },
  {
   "cell_type": "code",
   "execution_count": 13,
   "id": "f62a663d",
   "metadata": {
    "execution": {
     "iopub.execute_input": "2023-03-22T10:38:48.487863Z",
     "iopub.status.busy": "2023-03-22T10:38:48.487119Z",
     "iopub.status.idle": "2023-03-22T10:38:48.952606Z",
     "shell.execute_reply": "2023-03-22T10:38:48.951345Z"
    },
    "papermill": {
     "duration": 0.480252,
     "end_time": "2023-03-22T10:38:48.955274",
     "exception": false,
     "start_time": "2023-03-22T10:38:48.475022",
     "status": "completed"
    },
    "tags": []
   },
   "outputs": [
    {
     "data": {
      "text/plain": [
       "<seaborn.axisgrid.FacetGrid at 0x7f1a161bd650>"
      ]
     },
     "execution_count": 13,
     "metadata": {},
     "output_type": "execute_result"
    },
    {
     "data": {
      "image/png": "[encoded data removed]",
      "text/plain": [
       "<Figure size 2000x400 with 1 Axes>"
      ]
     },
     "metadata": {},
     "output_type": "display_data"
    }
   ],
   "source": [
    "# Display the count for all abnormalities\n",
    "sns.catplot(data=data_14, x=\"class_name\", kind=\"count\", height=4, aspect=5, order=data_14['class_name'].value_counts().index)"
   ]
  },
  {
   "cell_type": "code",
   "execution_count": 14,
   "id": "f5b734ee",
   "metadata": {
    "execution": {
     "iopub.execute_input": "2023-03-22T10:38:48.980549Z",
     "iopub.status.busy": "2023-03-22T10:38:48.980151Z",
     "iopub.status.idle": "2023-03-22T10:38:50.316390Z",
     "shell.execute_reply": "2023-03-22T10:38:50.314997Z"
    },
    "papermill": {
     "duration": 1.352279,
     "end_time": "2023-03-22T10:38:50.319042",
     "exception": false,
     "start_time": "2023-03-22T10:38:48.966763",
     "status": "completed"
    },
    "tags": []
   },
   "outputs": [
    {
     "data": {
      "text/plain": [
       "<seaborn.axisgrid.FacetGrid at 0x7f1a16ca13d0>"
      ]
     },
     "execution_count": 14,
     "metadata": {},
     "output_type": "execute_result"
    },
    {
     "data": {
      "image/png": "[encoded data removed]",
      "text/plain": [
       "<Figure size 1183.75x500 with 1 Axes>"
      ]
     },
     "metadata": {},
     "output_type": "display_data"
    }
   ],
   "source": [
    "# Display again the number of diagnoses per radiologists and per abnormalities\n",
    "sns.catplot(data=data_14, x=\"rad_id\", kind=\"count\", hue = \"class_name\", hue_order=data_14['class_name'].value_counts().index , aspect=2, order=data_14['rad_id'].value_counts().index)"
   ]
  },
  {
   "cell_type": "code",
   "execution_count": 15,
   "id": "9fde2ec0",
   "metadata": {
    "execution": {
     "iopub.execute_input": "2023-03-22T10:38:50.345435Z",
     "iopub.status.busy": "2023-03-22T10:38:50.345015Z",
     "iopub.status.idle": "2023-03-22T10:38:50.353029Z",
     "shell.execute_reply": "2023-03-22T10:38:50.351489Z"
    },
    "papermill": {
     "duration": 0.024671,
     "end_time": "2023-03-22T10:38:50.355885",
     "exception": false,
     "start_time": "2023-03-22T10:38:50.331214",
     "status": "completed"
    },
    "tags": []
   },
   "outputs": [],
   "source": [
    "# Function that creates an array from a DICOM image\n",
    "# INPUT: path of the DICOM image\n",
    "# OUPUT: array of the corresponding image\n",
    "def read_xray(path, voi_lut = True, fix_monochrome = True):\n",
    "    \n",
    "    # Reading DICOM image\n",
    "    dicom = pydicom.read_file(path)\n",
    "    \n",
    "    # Using VOI LUT (if available by DICOM device) to transform raw DICOM data to \"human-friendly\" view\n",
    "    if voi_lut:\n",
    "        data = apply_voi_lut(dicom.pixel_array, dicom)\n",
    "    else:\n",
    "        data = dicom.pixel_array\n",
    "               \n",
    "    # Depending on this value, X-ray may look inverted - fix that:\n",
    "    if fix_monochrome and dicom.PhotometricInterpretation == \"MONOCHROME1\":\n",
    "        data = np.amax(data) - data\n",
    "    \n",
    "    # Standardizing the array\n",
    "    data = data - np.min(data)\n",
    "    data = data / np.max(data)\n",
    "    data = (data * 255).astype(np.uint8)\n",
    "        \n",
    "    return data"
   ]
  },
  {
   "cell_type": "code",
   "execution_count": 16,
   "id": "584514f4",
   "metadata": {
    "execution": {
     "iopub.execute_input": "2023-03-22T10:38:50.383121Z",
     "iopub.status.busy": "2023-03-22T10:38:50.382686Z",
     "iopub.status.idle": "2023-03-22T10:38:52.399979Z",
     "shell.execute_reply": "2023-03-22T10:38:52.399024Z"
    },
    "papermill": {
     "duration": 2.034283,
     "end_time": "2023-03-22T10:38:52.402769",
     "exception": false,
     "start_time": "2023-03-22T10:38:50.368486",
     "status": "completed"
    },
    "tags": []
   },
   "outputs": [
    {
     "name": "stderr",
     "output_type": "stream",
     "text": [
      "/opt/conda/lib/python3.7/site-packages/pydicom/pixel_data_handlers/pillow_handler.py:239: UserWarning: The (0028,0101) 'Bits Stored' value (12-bit) doesn't match the JPEG 2000 data (16-bit). It's recommended that you change the 'Bits Stored' value\n",
      "  f\"The (0028,0101) 'Bits Stored' value ({bits_stored}-bit) \"\n"
     ]
    },
    {
     "data": {
      "text/plain": [
       "<matplotlib.image.AxesImage at 0x7f1a163bf710>"
      ]
     },
     "execution_count": 16,
     "metadata": {},
     "output_type": "execute_result"
    },
    {
     "data": {
      "image/png": "[encoded data removed]",
      "text/plain": [
       "<Figure size 500x500 with 1 Axes>"
      ]
     },
     "metadata": {},
     "output_type": "display_data"
    }
   ],
   "source": [
    "# Display a chest X-ray image\n",
    "img = read_xray('/kaggle/input/vinbigdata-chest-xray-abnormalities-detection/train/9a5094b2563a1ef3ff50dc5c7ff71345.dicom')\n",
    "plt.figure(figsize = (5,5))\n",
    "plt.imshow(img, 'gray')"
   ]
  },
  {
   "cell_type": "code",
   "execution_count": 17,
   "id": "5e28ffb6",
   "metadata": {
    "execution": {
     "iopub.execute_input": "2023-03-22T10:38:52.434638Z",
     "iopub.status.busy": "2023-03-22T10:38:52.433414Z",
     "iopub.status.idle": "2023-03-22T10:38:52.452166Z",
     "shell.execute_reply": "2023-03-22T10:38:52.450623Z"
    },
    "papermill": {
     "duration": 0.037738,
     "end_time": "2023-03-22T10:38:52.455235",
     "exception": false,
     "start_time": "2023-03-22T10:38:52.417497",
     "status": "completed"
    },
    "tags": []
   },
   "outputs": [
    {
     "name": "stdout",
     "output_type": "stream",
     "text": [
      "Number of images in the dataframe with 14 classes:  4394\n",
      "Number of images in the dataframe with only 1 class:  10606\n"
     ]
    }
   ],
   "source": [
    "print(\"Number of images in the dataframe with 14 classes: \", data_14['image_id'].nunique())\n",
    "print(\"Number of images in the dataframe with only 1 class: \", data_1['image_id'].nunique())"
   ]
  },
  {
   "cell_type": "markdown",
   "id": "8a2b2217",
   "metadata": {
    "papermill": {
     "duration": 0.013833,
     "end_time": "2023-03-22T10:38:52.483722",
     "exception": false,
     "start_time": "2023-03-22T10:38:52.469889",
     "status": "completed"
    },
    "tags": []
   },
   "source": [
    "## **Pre-Processing**"
   ]
  },
  {
   "cell_type": "code",
   "execution_count": 18,
   "id": "797d9a71",
   "metadata": {
    "execution": {
     "iopub.execute_input": "2023-03-22T10:38:52.514154Z",
     "iopub.status.busy": "2023-03-22T10:38:52.513689Z",
     "iopub.status.idle": "2023-03-22T10:38:52.522859Z",
     "shell.execute_reply": "2023-03-22T10:38:52.521665Z"
    },
    "papermill": {
     "duration": 0.027153,
     "end_time": "2023-03-22T10:38:52.525086",
     "exception": false,
     "start_time": "2023-03-22T10:38:52.497933",
     "status": "completed"
    },
    "tags": []
   },
   "outputs": [],
   "source": [
    "# Function that converts DICOM to JPG images and that recovers the height/width for each image\n",
    "# INPUT: path of the image, image_id, a dictionnary to save results, path of the output folder\n",
    "# OUPUT: None\n",
    "def convert_dicom_to_jpg(path_image, image_id, dico, final_fodler, voi_lut = True, fix_monochrome = True):\n",
    "    \n",
    "    # Retrieving the image path\n",
    "    path = path_image + image_id + '.dicom'\n",
    "    \n",
    "    # Reading DICOM image\n",
    "    dicom = pydicom.read_file(path)\n",
    "    \n",
    "    # Using VOI LUT (if available by DICOM device) to transform raw DICOM data to \"human-friendly\" view\n",
    "    if voi_lut:\n",
    "        data = apply_voi_lut(dicom.pixel_array, dicom)\n",
    "    else:\n",
    "        data = dicom.pixel_array\n",
    "               \n",
    "    # Depending on this value, X-ray may look inverted - fix that:\n",
    "    if fix_monochrome and dicom.PhotometricInterpretation == \"MONOCHROME1\":\n",
    "        data = np.amax(data) - data\n",
    "    \n",
    "    # Standardizing the array\n",
    "    data = data - np.min(data)\n",
    "    data = data / np.max(data)\n",
    "    data = (data * 255).astype(np.uint8)\n",
    "    \n",
    "    # Saving image shape into the dictionnary\n",
    "    dico[id] = data.shape\n",
    "    \n",
    "    # Converting array to PIL Image\n",
    "    img = Image.fromarray(data)\n",
    "    \n",
    "    # Creating final path for the new image\n",
    "    final_path = final_fodler +  image_id + '.jpg'\n",
    "    \n",
    "    # Saving image as JPG\n",
    "    img.save(final_path)"
   ]
  },
  {
   "cell_type": "markdown",
   "id": "7fec2bb1",
   "metadata": {
    "papermill": {
     "duration": 0.0149,
     "end_time": "2023-03-22T10:38:52.554293",
     "exception": false,
     "start_time": "2023-03-22T10:38:52.539393",
     "status": "completed"
    },
    "tags": []
   },
   "source": [
    "### **TRAINING IMAGES**"
   ]
  },
  {
   "cell_type": "code",
   "execution_count": 19,
   "id": "32a7fd3a",
   "metadata": {
    "execution": {
     "iopub.execute_input": "2023-03-22T10:38:52.585869Z",
     "iopub.status.busy": "2023-03-22T10:38:52.585450Z",
     "iopub.status.idle": "2023-03-22T14:35:49.078741Z",
     "shell.execute_reply": "2023-03-22T14:35:49.074951Z"
    },
    "papermill": {
     "duration": 14216.513596,
     "end_time": "2023-03-22T14:35:49.083162",
     "exception": false,
     "start_time": "2023-03-22T10:38:52.569566",
     "status": "completed"
    },
    "tags": []
   },
   "outputs": [
    {
     "data": {
      "application/vnd.jupyter.widget-view+json": {
       "model_id": "acb7fee7176b46a2b3dbc95e0e79c260",
       "version_major": 2,
       "version_minor": 0
      },
      "text/plain": [
       "  0%|          | 0/15000 [00:00<?, ?it/s]"
      ]
     },
     "metadata": {},
     "output_type": "display_data"
    },
    {
     "name": "stderr",
     "output_type": "stream",
     "text": [
      "/opt/conda/lib/python3.7/site-packages/pydicom/pixel_data_handlers/pillow_handler.py:239: UserWarning: The (0028,0101) 'Bits Stored' value (14-bit) doesn't match the JPEG 2000 data (16-bit). It's recommended that you change the 'Bits Stored' value\n",
      "  f\"The (0028,0101) 'Bits Stored' value ({bits_stored}-bit) \"\n"
     ]
    }
   ],
   "source": [
    "# Creating a dictionnary to save the shapes\n",
    "dico_images_shape = {}\n",
    "\n",
    "# Creating a final folder\n",
    "final_fodler = '/kaggle/working/vinbigdata-images-jpg/train/'\n",
    "os.makedirs(final_fodler, exist_ok = True)\n",
    "\n",
    "# Working only on the \"train\" images\n",
    "path_image = '/kaggle/input/vinbigdata-chest-xray-abnormalities-detection/train/'\n",
    "\n",
    "# Convert all images to JPG\n",
    "for id in tqdm(data['image_id'].unique()):\n",
    "    convert_dicom_to_jpg(path_image, id, dico_images_shape, final_fodler)"
   ]
  },
  {
   "cell_type": "code",
   "execution_count": 20,
   "id": "e2dc3311",
   "metadata": {
    "execution": {
     "iopub.execute_input": "2023-03-22T14:35:49.119619Z",
     "iopub.status.busy": "2023-03-22T14:35:49.118844Z",
     "iopub.status.idle": "2023-03-22T14:43:27.682239Z",
     "shell.execute_reply": "2023-03-22T14:43:27.680991Z"
    },
    "papermill": {
     "duration": 458.603303,
     "end_time": "2023-03-22T14:43:27.703054",
     "exception": false,
     "start_time": "2023-03-22T14:35:49.099751",
     "status": "completed"
    },
    "tags": []
   },
   "outputs": [
    {
     "data": {
      "text/plain": [
       "'/kaggle/working/dataset-images-jpg.zip'"
      ]
     },
     "execution_count": 20,
     "metadata": {},
     "output_type": "execute_result"
    }
   ],
   "source": [
    "import shutil\n",
    "\n",
    "# Converting the final folder to zip file\n",
    "shutil.make_archive('dataset-images-jpg', 'zip', '/kaggle/working/vinbigdata-images-jpg/train')"
   ]
  },
  {
   "cell_type": "code",
   "execution_count": 21,
   "id": "dd4ea4ca",
   "metadata": {
    "execution": {
     "iopub.execute_input": "2023-03-22T14:43:27.736465Z",
     "iopub.status.busy": "2023-03-22T14:43:27.735117Z",
     "iopub.status.idle": "2023-03-22T14:43:28.038838Z",
     "shell.execute_reply": "2023-03-22T14:43:28.037519Z"
    },
    "papermill": {
     "duration": 0.32335,
     "end_time": "2023-03-22T14:43:28.041783",
     "exception": false,
     "start_time": "2023-03-22T14:43:27.718433",
     "status": "completed"
    },
    "tags": []
   },
   "outputs": [],
   "source": [
    "width = []\n",
    "height = []\n",
    "\n",
    "# Recovering only the height/width of images belonging to the dataframe 'data_14'\n",
    "for id in data_14['image_id']:\n",
    "    width.append(dico_images_shape[id][1])\n",
    "    height.append(dico_images_shape[id][0])\n",
    "\n",
    "# Creating corresponding columns\n",
    "data_14['width'] = width\n",
    "data_14['height'] = height\n",
    "\n",
    "# Saving the dataframe 'data_14' to csv as 'train_with_sizes.csv'\n",
    "data_14.to_csv('train_with_sizes.csv', index=False)"
   ]
  },
  {
   "cell_type": "markdown",
   "id": "033ae785",
   "metadata": {
    "papermill": {
     "duration": 0.015079,
     "end_time": "2023-03-22T14:43:28.072640",
     "exception": false,
     "start_time": "2023-03-22T14:43:28.057561",
     "status": "completed"
    },
    "tags": []
   },
   "source": [
    "### **TEST IMAGES**"
   ]
  },
  {
   "cell_type": "code",
   "execution_count": 22,
   "id": "1268c7af",
   "metadata": {
    "execution": {
     "iopub.execute_input": "2023-03-22T14:43:28.105068Z",
     "iopub.status.busy": "2023-03-22T14:43:28.104651Z",
     "iopub.status.idle": "2023-03-22T15:28:41.943179Z",
     "shell.execute_reply": "2023-03-22T15:28:41.940223Z"
    },
    "papermill": {
     "duration": 2713.859354,
     "end_time": "2023-03-22T15:28:41.947656",
     "exception": false,
     "start_time": "2023-03-22T14:43:28.088302",
     "status": "completed"
    },
    "tags": []
   },
   "outputs": [
    {
     "data": {
      "application/vnd.jupyter.widget-view+json": {
       "model_id": "fb50e26c23cb438d8c15a4592e339211",
       "version_major": 2,
       "version_minor": 0
      },
      "text/plain": [
       "  0%|          | 0/3000 [00:00<?, ?it/s]"
      ]
     },
     "metadata": {},
     "output_type": "display_data"
    }
   ],
   "source": [
    "# Creating a dictionnary to save the shapes\n",
    "dico_images_shape = {}\n",
    "\n",
    "# Creating a final folder\n",
    "final_fodler = '/kaggle/working/vinbigdata-images-jpg/test/'\n",
    "os.makedirs(final_fodler, exist_ok = True)\n",
    "\n",
    "# Working only on the \"test\" images\n",
    "path_image = '/kaggle/input/vinbigdata-chest-xray-abnormalities-detection/test/'\n",
    "\n",
    "# Convert all images to JPG\n",
    "for id in tqdm(test['image_id'].unique()):\n",
    "    convert_dicom_to_jpg(path_image, id, dico_images_shape, final_fodler)"
   ]
  },
  {
   "cell_type": "code",
   "execution_count": 23,
   "id": "f913b3a9",
   "metadata": {
    "execution": {
     "iopub.execute_input": "2023-03-22T15:28:41.985109Z",
     "iopub.status.busy": "2023-03-22T15:28:41.984366Z",
     "iopub.status.idle": "2023-03-22T15:30:07.591413Z",
     "shell.execute_reply": "2023-03-22T15:30:07.590252Z"
    },
    "papermill": {
     "duration": 85.647516,
     "end_time": "2023-03-22T15:30:07.612090",
     "exception": false,
     "start_time": "2023-03-22T15:28:41.964574",
     "status": "completed"
    },
    "tags": []
   },
   "outputs": [
    {
     "data": {
      "text/plain": [
       "'/kaggle/working/dataset-submission-images-jpg.zip'"
      ]
     },
     "execution_count": 23,
     "metadata": {},
     "output_type": "execute_result"
    }
   ],
   "source": [
    "import shutil\n",
    "\n",
    "# Converting the final folder to zip file\n",
    "shutil.make_archive('dataset-submission-images-jpg', 'zip', '/kaggle/working/vinbigdata-images-jpg/test')"
   ]
  },
  {
   "cell_type": "code",
   "execution_count": 24,
   "id": "2bca46d2",
   "metadata": {
    "execution": {
     "iopub.execute_input": "2023-03-22T15:30:07.644966Z",
     "iopub.status.busy": "2023-03-22T15:30:07.644505Z",
     "iopub.status.idle": "2023-03-22T15:30:07.684063Z",
     "shell.execute_reply": "2023-03-22T15:30:07.683079Z"
    },
    "papermill": {
     "duration": 0.059587,
     "end_time": "2023-03-22T15:30:07.686736",
     "exception": false,
     "start_time": "2023-03-22T15:30:07.627149",
     "status": "completed"
    },
    "tags": []
   },
   "outputs": [],
   "source": [
    "width = []\n",
    "height = []\n",
    "\n",
    "# Recovering only the height/width of images belonging to the dataframe 'test'\n",
    "for id in test['image_id']:\n",
    "    width.append(dico_images_shape[id][1])\n",
    "    height.append(dico_images_shape[id][0])\n",
    "\n",
    "# Creating corresponding columns\n",
    "test['width'] = width\n",
    "test['height'] = height\n",
    "\n",
    "# Saving the dataframe 'test' to csv as 'train_with_sizes.csv'\n",
    "test.to_csv('sample_submission_with_sizes.csv', index=False)"
   ]
  }
 ],
 "metadata": {
  "kernelspec": {
   "display_name": "Python 3",
   "language": "python",
   "name": "python3"
  },
  "language_info": {
   "codemirror_mode": {
    "name": "ipython",
    "version": 3
   },
   "file_extension": ".py",
   "mimetype": "text/x-python",
   "name": "python",
   "nbconvert_exporter": "python",
   "pygments_lexer": "ipython3",
   "version": "3.7.12"
  },
  "papermill": {
   "default_parameters": {},
   "duration": 17495.600495,
   "end_time": "2023-03-22T15:30:09.629513",
   "environment_variables": {},
   "exception": null,
   "input_path": "__notebook__.ipynb",
   "output_path": "__notebook__.ipynb",
   "parameters": {},
   "start_time": "2023-03-22T10:38:34.029018",
   "version": "2.3.4"
  },
  "widgets": {
   "application/vnd.jupyter.widget-state+json": {
    "state": {
     "08b0dee0d66b46cba58e5abc938ed320": {
      "model_module": "@jupyter-widgets/controls",
      "model_module_version": "1.5.0",
      "model_name": "DescriptionStyleModel",
      "state": {
       "_model_module": "@jupyter-widgets/controls",
       "_model_module_version": "1.5.0",
       "_model_name": "DescriptionStyleModel",
       "_view_count": null,
       "_view_module": "@jupyter-widgets/base",
       "_view_module_version": "1.2.0",
       "_view_name": "StyleView",
       "description_width": ""
      }
     },
     "11a10e06a4674011be4e1dadeb658024": {
      "model_module": "@jupyter-widgets/controls",
      "model_module_version": "1.5.0",
      "model_name": "DescriptionStyleModel",
      "state": {
       "_model_module": "@jupyter-widgets/controls",
       "_model_module_version": "1.5.0",
       "_model_name": "DescriptionStyleModel",
       "_view_count": null,
       "_view_module": "@jupyter-widgets/base",
       "_view_module_version": "1.2.0",
       "_view_name": "StyleView",
       "description_width": ""
      }
     },
     "135b4f89d26b4e51893b0ff765158eb9": {
      "model_module": "@jupyter-widgets/controls",
      "model_module_version": "1.5.0",
      "model_name": "FloatProgressModel",
      "state": {
       "_dom_classes": [],
       "_model_module": "@jupyter-widgets/controls",
       "_model_module_version": "1.5.0",
       "_model_name": "FloatProgressModel",
       "_view_count": null,
       "_view_module": "@jupyter-widgets/controls",
       "_view_module_version": "1.5.0",
       "_view_name": "ProgressView",
       "bar_style": "success",
       "description": "",
       "description_tooltip": null,
       "layout": "IPY_MODEL_a0e92a07eda3405696024efcc142ec4c",
       "max": 15000.0,
       "min": 0.0,
       "orientation": "horizontal",
       "style": "IPY_MODEL_d4dc22ae13f742fb9d2db752bddcbbf9",
       "value": 15000.0
      }
     },
     "1adc64659fc049e3ba1952902d60803d": {
      "model_module": "@jupyter-widgets/controls",
      "model_module_version": "1.5.0",
      "model_name": "HTMLModel",
      "state": {
       "_dom_classes": [],
       "_model_module": "@jupyter-widgets/controls",
       "_model_module_version": "1.5.0",
       "_model_name": "HTMLModel",
       "_view_count": null,
       "_view_module": "@jupyter-widgets/controls",
       "_view_module_version": "1.5.0",
       "_view_name": "HTMLView",
       "description": "",
       "description_tooltip": null,
       "layout": "IPY_MODEL_68be5753cb864ad08c8bff88b3b05e1d",
       "placeholder": "​",
       "style": "IPY_MODEL_11a10e06a4674011be4e1dadeb658024",
       "value": "100%"
      }
     },
     "20bfdb262a854917b3f4a5b934498b11": {
      "model_module": "@jupyter-widgets/controls",
      "model_module_version": "1.5.0",
      "model_name": "HTMLModel",
      "state": {
       "_dom_classes": [],
       "_model_module": "@jupyter-widgets/controls",
       "_model_module_version": "1.5.0",
       "_model_name": "HTMLModel",
       "_view_count": null,
       "_view_module": "@jupyter-widgets/controls",
       "_view_module_version": "1.5.0",
       "_view_name": "HTMLView",
       "description": "",
       "description_tooltip": null,
       "layout": "IPY_MODEL_f4b4861963ff4a50919f894ffe01ff83",
       "placeholder": "​",
       "style": "IPY_MODEL_08b0dee0d66b46cba58e5abc938ed320",
       "value": " 3000/3000 [45:13&lt;00:00,  1.11s/it]"
      }
     },
     "261f7f19d179481fb53a9db7b680c43d": {
      "model_module": "@jupyter-widgets/base",
      "model_module_version": "1.2.0",
      "model_name": "LayoutModel",
      "state": {
       "_model_module": "@jupyter-widgets/base",
       "_model_module_version": "1.2.0",
       "_model_name": "LayoutModel",
       "_view_count": null,
       "_view_module": "@jupyter-widgets/base",
       "_view_module_version": "1.2.0",
       "_view_name": "LayoutView",
       "align_content": null,
       "align_items": null,
       "align_self": null,
       "border": null,
       "bottom": null,
       "display": null,
       "flex": null,
       "flex_flow": null,
       "grid_area": null,
       "grid_auto_columns": null,
       "grid_auto_flow": null,
       "grid_auto_rows": null,
       "grid_column": null,
       "grid_gap": null,
       "grid_row": null,
       "grid_template_areas": null,
       "grid_template_columns": null,
       "grid_template_rows": null,
       "height": null,
       "justify_content": null,
       "justify_items": null,
       "left": null,
       "margin": null,
       "max_height": null,
       "max_width": null,
       "min_height": null,
       "min_width": null,
       "object_fit": null,
       "object_position": null,
       "order": null,
       "overflow": null,
       "overflow_x": null,
       "overflow_y": null,
       "padding": null,
       "right": null,
       "top": null,
       "visibility": null,
       "width": null
      }
     },
     "279ad6a1dc2c4b02a04ba06e104c867a": {
      "model_module": "@jupyter-widgets/controls",
      "model_module_version": "1.5.0",
      "model_name": "HTMLModel",
      "state": {
       "_dom_classes": [],
       "_model_module": "@jupyter-widgets/controls",
       "_model_module_version": "1.5.0",
       "_model_name": "HTMLModel",
       "_view_count": null,
       "_view_module": "@jupyter-widgets/controls",
       "_view_module_version": "1.5.0",
       "_view_name": "HTMLView",
       "description": "",
       "description_tooltip": null,
       "layout": "IPY_MODEL_305c43ab155647a0a5e8cf4d53ad2299",
       "placeholder": "​",
       "style": "IPY_MODEL_7fff94b87e004a088a2761ac8384ab52",
       "value": " 15000/15000 [3:56:56&lt;00:00,  1.02s/it]"
      }
     },
     "29a4e4fa2f5449c6b62cd007f8690961": {
      "model_module": "@jupyter-widgets/controls",
      "model_module_version": "1.5.0",
      "model_name": "ProgressStyleModel",
      "state": {
       "_model_module": "@jupyter-widgets/controls",
       "_model_module_version": "1.5.0",
       "_model_name": "ProgressStyleModel",
       "_view_count": null,
       "_view_module": "@jupyter-widgets/base",
       "_view_module_version": "1.2.0",
       "_view_name": "StyleView",
       "bar_color": null,
       "description_width": ""
      }
     },
     "305c43ab155647a0a5e8cf4d53ad2299": {
      "model_module": "@jupyter-widgets/base",
      "model_module_version": "1.2.0",
      "model_name": "LayoutModel",
      "state": {
       "_model_module": "@jupyter-widgets/base",
       "_model_module_version": "1.2.0",
       "_model_name": "LayoutModel",
       "_view_count": null,
       "_view_module": "@jupyter-widgets/base",
       "_view_module_version": "1.2.0",
       "_view_name": "LayoutView",
       "align_content": null,
       "align_items": null,
       "align_self": null,
       "border": null,
       "bottom": null,
       "display": null,
       "flex": null,
       "flex_flow": null,
       "grid_area": null,
       "grid_auto_columns": null,
       "grid_auto_flow": null,
       "grid_auto_rows": null,
       "grid_column": null,
       "grid_gap": null,
       "grid_row": null,
       "grid_template_areas": null,
       "grid_template_columns": null,
       "grid_template_rows": null,
       "height": null,
       "justify_content": null,
       "justify_items": null,
       "left": null,
       "margin": null,
       "max_height": null,
       "max_width": null,
       "min_height": null,
       "min_width": null,
       "object_fit": null,
       "object_position": null,
       "order": null,
       "overflow": null,
       "overflow_x": null,
       "overflow_y": null,
       "padding": null,
       "right": null,
       "top": null,
       "visibility": null,
       "width": null
      }
     },
     "4a7341a95fd243a28d5339fb78f999fd": {
      "model_module": "@jupyter-widgets/controls",
      "model_module_version": "1.5.0",
      "model_name": "DescriptionStyleModel",
      "state": {
       "_model_module": "@jupyter-widgets/controls",
       "_model_module_version": "1.5.0",
       "_model_name": "DescriptionStyleModel",
       "_view_count": null,
       "_view_module": "@jupyter-widgets/base",
       "_view_module_version": "1.2.0",
       "_view_name": "StyleView",
       "description_width": ""
      }
     },
     "59de00fd2afa41e39a70263cf0b0b33c": {
      "model_module": "@jupyter-widgets/base",
      "model_module_version": "1.2.0",
      "model_name": "LayoutModel",
      "state": {
       "_model_module": "@jupyter-widgets/base",
       "_model_module_version": "1.2.0",
       "_model_name": "LayoutModel",
       "_view_count": null,
       "_view_module": "@jupyter-widgets/base",
       "_view_module_version": "1.2.0",
       "_view_name": "LayoutView",
       "align_content": null,
       "align_items": null,
       "align_self": null,
       "border": null,
       "bottom": null,
       "display": null,
       "flex": null,
       "flex_flow": null,
       "grid_area": null,
       "grid_auto_columns": null,
       "grid_auto_flow": null,
       "grid_auto_rows": null,
       "grid_column": null,
       "grid_gap": null,
       "grid_row": null,
       "grid_template_areas": null,
       "grid_template_columns": null,
       "grid_template_rows": null,
       "height": null,
       "justify_content": null,
       "justify_items": null,
       "left": null,
       "margin": null,
       "max_height": null,
       "max_width": null,
       "min_height": null,
       "min_width": null,
       "object_fit": null,
       "object_position": null,
       "order": null,
       "overflow": null,
       "overflow_x": null,
       "overflow_y": null,
       "padding": null,
       "right": null,
       "top": null,
       "visibility": null,
       "width": null
      }
     },
     "68be5753cb864ad08c8bff88b3b05e1d": {
      "model_module": "@jupyter-widgets/base",
      "model_module_version": "1.2.0",
      "model_name": "LayoutModel",
      "state": {
       "_model_module": "@jupyter-widgets/base",
       "_model_module_version": "1.2.0",
       "_model_name": "LayoutModel",
       "_view_count": null,
       "_view_module": "@jupyter-widgets/base",
       "_view_module_version": "1.2.0",
       "_view_name": "LayoutView",
       "align_content": null,
       "align_items": null,
       "align_self": null,
       "border": null,
       "bottom": null,
       "display": null,
       "flex": null,
       "flex_flow": null,
       "grid_area": null,
       "grid_auto_columns": null,
       "grid_auto_flow": null,
       "grid_auto_rows": null,
       "grid_column": null,
       "grid_gap": null,
       "grid_row": null,
       "grid_template_areas": null,
       "grid_template_columns": null,
       "grid_template_rows": null,
       "height": null,
       "justify_content": null,
       "justify_items": null,
       "left": null,
       "margin": null,
       "max_height": null,
       "max_width": null,
       "min_height": null,
       "min_width": null,
       "object_fit": null,
       "object_position": null,
       "order": null,
       "overflow": null,
       "overflow_x": null,
       "overflow_y": null,
       "padding": null,
       "right": null,
       "top": null,
       "visibility": null,
       "width": null
      }
     },
     "6aea639381b14f7ca3c5a8c1e0f1aeea": {
      "model_module": "@jupyter-widgets/controls",
      "model_module_version": "1.5.0",
      "model_name": "HTMLModel",
      "state": {
       "_dom_classes": [],
       "_model_module": "@jupyter-widgets/controls",
       "_model_module_version": "1.5.0",
       "_model_name": "HTMLModel",
       "_view_count": null,
       "_view_module": "@jupyter-widgets/controls",
       "_view_module_version": "1.5.0",
       "_view_name": "HTMLView",
       "description": "",
       "description_tooltip": null,
       "layout": "IPY_MODEL_a4bf82cf44354619b34e9a462c8a73a5",
       "placeholder": "​",
       "style": "IPY_MODEL_4a7341a95fd243a28d5339fb78f999fd",
       "value": "100%"
      }
     },
     "7fff94b87e004a088a2761ac8384ab52": {
      "model_module": "@jupyter-widgets/controls",
      "model_module_version": "1.5.0",
      "model_name": "DescriptionStyleModel",
      "state": {
       "_model_module": "@jupyter-widgets/controls",
       "_model_module_version": "1.5.0",
       "_model_name": "DescriptionStyleModel",
       "_view_count": null,
       "_view_module": "@jupyter-widgets/base",
       "_view_module_version": "1.2.0",
       "_view_name": "StyleView",
       "description_width": ""
      }
     },
     "a0e92a07eda3405696024efcc142ec4c": {
      "model_module": "@jupyter-widgets/base",
      "model_module_version": "1.2.0",
      "model_name": "LayoutModel",
      "state": {
       "_model_module": "@jupyter-widgets/base",
       "_model_module_version": "1.2.0",
       "_model_name": "LayoutModel",
       "_view_count": null,
       "_view_module": "@jupyter-widgets/base",
       "_view_module_version": "1.2.0",
       "_view_name": "LayoutView",
       "align_content": null,
       "align_items": null,
       "align_self": null,
       "border": null,
       "bottom": null,
       "display": null,
       "flex": null,
       "flex_flow": null,
       "grid_area": null,
       "grid_auto_columns": null,
       "grid_auto_flow": null,
       "grid_auto_rows": null,
       "grid_column": null,
       "grid_gap": null,
       "grid_row": null,
       "grid_template_areas": null,
       "grid_template_columns": null,
       "grid_template_rows": null,
       "height": null,
       "justify_content": null,
       "justify_items": null,
       "left": null,
       "margin": null,
       "max_height": null,
       "max_width": null,
       "min_height": null,
       "min_width": null,
       "object_fit": null,
       "object_position": null,
       "order": null,
       "overflow": null,
       "overflow_x": null,
       "overflow_y": null,
       "padding": null,
       "right": null,
       "top": null,
       "visibility": null,
       "width": null
      }
     },
     "a4bf82cf44354619b34e9a462c8a73a5": {
      "model_module": "@jupyter-widgets/base",
      "model_module_version": "1.2.0",
      "model_name": "LayoutModel",
      "state": {
       "_model_module": "@jupyter-widgets/base",
       "_model_module_version": "1.2.0",
       "_model_name": "LayoutModel",
       "_view_count": null,
       "_view_module": "@jupyter-widgets/base",
       "_view_module_version": "1.2.0",
       "_view_name": "LayoutView",
       "align_content": null,
       "align_items": null,
       "align_self": null,
       "border": null,
       "bottom": null,
       "display": null,
       "flex": null,
       "flex_flow": null,
       "grid_area": null,
       "grid_auto_columns": null,
       "grid_auto_flow": null,
       "grid_auto_rows": null,
       "grid_column": null,
       "grid_gap": null,
       "grid_row": null,
       "grid_template_areas": null,
       "grid_template_columns": null,
       "grid_template_rows": null,
       "height": null,
       "justify_content": null,
       "justify_items": null,
       "left": null,
       "margin": null,
       "max_height": null,
       "max_width": null,
       "min_height": null,
       "min_width": null,
       "object_fit": null,
       "object_position": null,
       "order": null,
       "overflow": null,
       "overflow_x": null,
       "overflow_y": null,
       "padding": null,
       "right": null,
       "top": null,
       "visibility": null,
       "width": null
      }
     },
     "acb7fee7176b46a2b3dbc95e0e79c260": {
      "model_module": "@jupyter-widgets/controls",
      "model_module_version": "1.5.0",
      "model_name": "HBoxModel",
      "state": {
       "_dom_classes": [],
       "_model_module": "@jupyter-widgets/controls",
       "_model_module_version": "1.5.0",
       "_model_name": "HBoxModel",
       "_view_count": null,
       "_view_module": "@jupyter-widgets/controls",
       "_view_module_version": "1.5.0",
       "_view_name": "HBoxView",
       "box_style": "",
       "children": [
        "IPY_MODEL_6aea639381b14f7ca3c5a8c1e0f1aeea",
        "IPY_MODEL_135b4f89d26b4e51893b0ff765158eb9",
        "IPY_MODEL_279ad6a1dc2c4b02a04ba06e104c867a"
       ],
       "layout": "IPY_MODEL_261f7f19d179481fb53a9db7b680c43d"
      }
     },
     "d4dc22ae13f742fb9d2db752bddcbbf9": {
      "model_module": "@jupyter-widgets/controls",
      "model_module_version": "1.5.0",
      "model_name": "ProgressStyleModel",
      "state": {
       "_model_module": "@jupyter-widgets/controls",
       "_model_module_version": "1.5.0",
       "_model_name": "ProgressStyleModel",
       "_view_count": null,
       "_view_module": "@jupyter-widgets/base",
       "_view_module_version": "1.2.0",
       "_view_name": "StyleView",
       "bar_color": null,
       "description_width": ""
      }
     },
     "e2e282ee06414221846ee6292804d477": {
      "model_module": "@jupyter-widgets/controls",
      "model_module_version": "1.5.0",
      "model_name": "FloatProgressModel",
      "state": {
       "_dom_classes": [],
       "_model_module": "@jupyter-widgets/controls",
       "_model_module_version": "1.5.0",
       "_model_name": "FloatProgressModel",
       "_view_count": null,
       "_view_module": "@jupyter-widgets/controls",
       "_view_module_version": "1.5.0",
       "_view_name": "ProgressView",
       "bar_style": "success",
       "description": "",
       "description_tooltip": null,
       "layout": "IPY_MODEL_f840635b46214dc8865c5750d043821d",
       "max": 3000.0,
       "min": 0.0,
       "orientation": "horizontal",
       "style": "IPY_MODEL_29a4e4fa2f5449c6b62cd007f8690961",
       "value": 3000.0
      }
     },
     "f4b4861963ff4a50919f894ffe01ff83": {
      "model_module": "@jupyter-widgets/base",
      "model_module_version": "1.2.0",
      "model_name": "LayoutModel",
      "state": {
       "_model_module": "@jupyter-widgets/base",
       "_model_module_version": "1.2.0",
       "_model_name": "LayoutModel",
       "_view_count": null,
       "_view_module": "@jupyter-widgets/base",
       "_view_module_version": "1.2.0",
       "_view_name": "LayoutView",
       "align_content": null,
       "align_items": null,
       "align_self": null,
       "border": null,
       "bottom": null,
       "display": null,
       "flex": null,
       "flex_flow": null,
       "grid_area": null,
       "grid_auto_columns": null,
       "grid_auto_flow": null,
       "grid_auto_rows": null,
       "grid_column": null,
       "grid_gap": null,
       "grid_row": null,
       "grid_template_areas": null,
       "grid_template_columns": null,
       "grid_template_rows": null,
       "height": null,
       "justify_content": null,
       "justify_items": null,
       "left": null,
       "margin": null,
       "max_height": null,
       "max_width": null,
       "min_height": null,
       "min_width": null,
       "object_fit": null,
       "object_position": null,
       "order": null,
       "overflow": null,
       "overflow_x": null,
       "overflow_y": null,
       "padding": null,
       "right": null,
       "top": null,
       "visibility": null,
       "width": null
      }
     },
     "f840635b46214dc8865c5750d043821d": {
      "model_module": "@jupyter-widgets/base",
      "model_module_version": "1.2.0",
      "model_name": "LayoutModel",
      "state": {
       "_model_module": "@jupyter-widgets/base",
       "_model_module_version": "1.2.0",
       "_model_name": "LayoutModel",
       "_view_count": null,
       "_view_module": "@jupyter-widgets/base",
       "_view_module_version": "1.2.0",
       "_view_name": "LayoutView",
       "align_content": null,
       "align_items": null,
       "align_self": null,
       "border": null,
       "bottom": null,
       "display": null,
       "flex": null,
       "flex_flow": null,
       "grid_area": null,
       "grid_auto_columns": null,
       "grid_auto_flow": null,
       "grid_auto_rows": null,
       "grid_column": null,
       "grid_gap": null,
       "grid_row": null,
       "grid_template_areas": null,
       "grid_template_columns": null,
       "grid_template_rows": null,
       "height": null,
       "justify_content": null,
       "justify_items": null,
       "left": null,
       "margin": null,
       "max_height": null,
       "max_width": null,
       "min_height": null,
       "min_width": null,
       "object_fit": null,
       "object_position": null,
       "order": null,
       "overflow": null,
       "overflow_x": null,
       "overflow_y": null,
       "padding": null,
       "right": null,
       "top": null,
       "visibility": null,
       "width": null
      }
     },
     "fb50e26c23cb438d8c15a4592e339211": {
      "model_module": "@jupyter-widgets/controls",
      "model_module_version": "1.5.0",
      "model_name": "HBoxModel",
      "state": {
       "_dom_classes": [],
       "_model_module": "@jupyter-widgets/controls",
       "_model_module_version": "1.5.0",
       "_model_name": "HBoxModel",
       "_view_count": null,
       "_view_module": "@jupyter-widgets/controls",
       "_view_module_version": "1.5.0",
       "_view_name": "HBoxView",
       "box_style": "",
       "children": [
        "IPY_MODEL_1adc64659fc049e3ba1952902d60803d",
        "IPY_MODEL_e2e282ee06414221846ee6292804d477",
        "IPY_MODEL_20bfdb262a854917b3f4a5b934498b11"
       ],
       "layout": "IPY_MODEL_59de00fd2afa41e39a70263cf0b0b33c"
      }
     }
    },
    "version_major": 2,
    "version_minor": 0
   }
  }
 },
 "nbformat": 4,
 "nbformat_minor": 5
}
